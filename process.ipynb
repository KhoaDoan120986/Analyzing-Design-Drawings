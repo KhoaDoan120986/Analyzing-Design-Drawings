{
 "cells": [
  {
   "cell_type": "code",
   "execution_count": 1,
   "id": "496facaf",
   "metadata": {},
   "outputs": [],
   "source": [
    "from pathlib import Path\n",
    "import fitz \n",
    "import re\n",
    "import cairosvg\n",
    "import numpy as np \n",
    "import cv2\n",
    "import json\n",
    "import os\n",
    "import glob\n",
    "import matplotlib.pyplot as plt"
   ]
  },
  {
   "cell_type": "code",
   "execution_count": 2,
   "id": "52fb0b8d",
   "metadata": {},
   "outputs": [],
   "source": [
    "def split_tiles (image, tile_size, overlap_pct):\n",
    "    H, W = image.shape[:2] \n",
    "    overlap = int(tile_size * overlap_pct)\n",
    "    offsets = []\n",
    "    tiles = []\n",
    "    for y in range(0, H, tile_size - overlap):\n",
    "        for x in range(0, W, tile_size - overlap):\n",
    "            tile = image[y:min(y+tile_size, H), x:min(x+tile_size, W)]\n",
    "            offsets.append((x, y))\n",
    "            tiles.append(tile)\n",
    "    return offsets, tiles"
   ]
  },
  {
   "cell_type": "code",
   "execution_count": null,
   "id": "55a1ec43",
   "metadata": {},
   "outputs": [
    {
     "name": "stdout",
     "output_type": "stream",
     "text": [
      "Đã lưu 182 ảnh và file metadata.json vào data/map/\n"
     ]
    }
   ],
   "source": [
    "out_dir  = \"data/map/\"\n",
    "os.makedirs(out_dir, exist_ok=True)\n",
    "\n",
    "img_path = \"data/map.JPG\"\n",
    "image = cv2.imread(img_path)\n",
    "offsets, tiles = split_tiles(image, 1536, 0.5)\n",
    "\n",
    "metadata = {}\n",
    "for tile_index in range(len(tiles)):\n",
    "    tile_filename = f\"tile_{tile_index}.jpg\"\n",
    "    tile = tiles[tile_index]\n",
    "    offset = offsets[tile_index]\n",
    "    \n",
    "    cv2.imwrite(\n",
    "        os.path.join(out_dir, tile_filename),\n",
    "        tile,\n",
    "        [cv2.IMWRITE_JPEG_QUALITY, 100, cv2.IMWRITE_JPEG_OPTIMIZE, 1]\n",
    "    )\n",
    "    metadata[tile_filename] = {\n",
    "        \"x\": offset[0],\n",
    "        \"y\": offset[1],\n",
    "        \"width\": tile.shape[1],\n",
    "        \"height\": tile.shape[0]\n",
    "    }\n",
    "\n",
    "with open(\"data/metadata.json\", \"w\", encoding=\"utf-8\") as f:\n",
    "    json.dump(metadata, f, indent=2, ensure_ascii=False)"
   ]
  },
  {
   "cell_type": "code",
   "execution_count": 4,
   "id": "cd57e4b6",
   "metadata": {},
   "outputs": [
    {
     "name": "stdout",
     "output_type": "stream",
     "text": [
      "['floor_2_2', 'floor_3_29']\n"
     ]
    }
   ],
   "source": [
    "pdf_path = \"data/design/S606.pdf\"\n",
    "out_dir = \"data/design/\"\n",
    "\n",
    "pdf = Path(pdf_path)\n",
    "doc = fitz.open(pdf_path)\n",
    "floor_pages = []\n",
    "pattern = r\"TẦNG\\s*(\\d+)(?:-(\\d+))?\"\n",
    "for i, page in enumerate(doc):\n",
    "    text = page.get_text(\"text\")\n",
    "    match = re.search(pattern, text)\n",
    "    if match:\n",
    "        start = int(match.group(1))\n",
    "        end = int(match.group(2)) if match.group(2) else start\n",
    "        floor_pages.append(f'floor_{start}_{end}')\n",
    "print(floor_pages)\n",
    "\n",
    "for i in range(len(doc)):\n",
    "    page = doc[i]\n",
    "    try:\n",
    "        svg = page.get_svg_image()\n",
    "    except AttributeError:\n",
    "        raise RuntimeError(\"Phiên bản PyMuPDF của bạn không hỗ trợ get_svg_image()\")\n",
    "    png_bytes = cairosvg.svg2png(\n",
    "        bytestring=svg.encode(\"utf-8\"),\n",
    "        scale=8,\n",
    "        background_color=\"#FFFFFF\"\n",
    "    )\n",
    "\n",
    "    nparr = np.frombuffer(png_bytes, np.uint8)\n",
    "    img = cv2.imdecode(nparr, cv2.IMREAD_COLOR)\n",
    "    out_file_jpg = Path(out_dir) / f\"{floor_pages[i]}.jpg\"\n",
    "    cv2.imwrite(str(out_file_jpg), img, [cv2.IMWRITE_JPEG_QUALITY, 100])\n",
    "doc.close()"
   ]
  },
  {
   "cell_type": "code",
   "execution_count": null,
   "id": "5a24971f",
   "metadata": {},
   "outputs": [
    {
     "name": "stdout",
     "output_type": "stream",
     "text": [
      "Ảnh floor_2_2: đã lưu 199 tiles và offsets.json vào data/design/floor_2_2\n",
      "Ảnh floor_3_29: đã lưu 199 tiles và offsets.json vào data/design/floor_3_29\n"
     ]
    }
   ],
   "source": [
    "paths = glob.glob(\"data/design/*.jpg\")\n",
    "paths = [p for p in paths if \"tile\" not in p]\n",
    "output_dir = \"data/design/\"\n",
    "\n",
    "for img_path in paths:\n",
    "    image = cv2.imread(img_path)\n",
    "    name = os.path.splitext(os.path.basename(img_path))[0]\n",
    "    save_dir = os.path.join(out_dir, name)\n",
    "    os.makedirs(save_dir, exist_ok=True)\n",
    "\n",
    "    offsets, tiles = split_tiles(image, 1536, 0.5)\n",
    "    for tile_index in range(len(tiles)):\n",
    "        tile_filename = f\"{name}_tile_{tile_index}.jpg\"\n",
    "        tile = tiles[tile_index]\n",
    "        offset = offsets[tile_index]\n",
    "        \n",
    "        cv2.imwrite(\n",
    "            os.path.join(save_dir, tile_filename),\n",
    "            tile,\n",
    "            [cv2.IMWRITE_JPEG_QUALITY, 100, cv2.IMWRITE_JPEG_OPTIMIZE, 1]\n",
    "        )\n",
    "        metadata[tile_filename] = {\n",
    "            \"x\": offset[0],\n",
    "            \"y\": offset[1],\n",
    "            \"width\": tile.shape[1],\n",
    "            \"height\": tile.shape[0]\n",
    "        }\n",
    "    with open(os.path.join(output_dir, f\"{name}_metadata.json\"), \"w\", encoding=\"utf-8\") as f:\n",
    "        json.dump(metadata, f, indent=2, ensure_ascii=False)"
   ]
  }
 ],
 "metadata": {
  "kernelspec": {
   "display_name": "qwen",
   "language": "python",
   "name": "python3"
  },
  "language_info": {
   "codemirror_mode": {
    "name": "ipython",
    "version": 3
   },
   "file_extension": ".py",
   "mimetype": "text/x-python",
   "name": "python",
   "nbconvert_exporter": "python",
   "pygments_lexer": "ipython3",
   "version": "3.10.18"
  }
 },
 "nbformat": 4,
 "nbformat_minor": 5
}
