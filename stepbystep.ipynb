{
 "cells": [
  {
   "cell_type": "code",
   "execution_count": 1,
   "id": "1ba31855",
   "metadata": {},
   "outputs": [],
   "source": [
    "import cv2\n",
    "import matplotlib.pyplot as plt\n",
    "import json\n",
    "from google import genai\n",
    "from google.genai import types\n",
    "import glob\n",
    "import os\n",
    "\n",
    "from IPython.display import display, Markdown\n",
    "import time\n",
    "import json"
   ]
  },
  {
   "cell_type": "code",
   "execution_count": 2,
   "id": "2370c5a2",
   "metadata": {},
   "outputs": [],
   "source": [
    "with open(\"config.json\", \"r\", encoding=\"utf-8\") as f:\n",
    "   config = json.load(f)\n",
    "client = genai.Client(api_key=config[\"gemini_api_key\"])\n",
    "MODEL = config[\"MODEL\"]\n",
    "prompt_1 = config[\"prompt_1\"]\n",
    "prompt_2 = config[\"prompt_2\"]"
   ]
  },
  {
   "cell_type": "code",
   "execution_count": 3,
   "id": "7f8da90c",
   "metadata": {},
   "outputs": [],
   "source": [
    "map_resources = {} \n",
    "\n",
    "with open(\"data/mapping.json\", \"r\", encoding=\"utf-8\") as f:\n",
    "    map_resources[\"mapping\"] = json.load(f)\n",
    "\n",
    "with open(\"data/metadata.json\", \"r\", encoding=\"utf-8\") as f:\n",
    "    map_resources[\"metadata\"] = json.load(f)\n",
    "    \n",
    "map_resources[\"image\"] = cv2.cvtColor(cv2.imread(\"data/map.JPG\"), cv2.COLOR_BGR2RGB) "
   ]
  },
  {
   "cell_type": "code",
   "execution_count": 4,
   "id": "7600c051",
   "metadata": {},
   "outputs": [],
   "source": [
    "root_dir = \"data/design/\"\n",
    "resources = {}\n",
    "\n",
    "for apartment in os.listdir(root_dir):\n",
    "    apt_path = os.path.join(root_dir, apartment)\n",
    "    if not os.path.isdir(apt_path):\n",
    "        continue\n",
    "\n",
    "    resources[apartment] = {}\n",
    "    for floor in os.listdir(apt_path):\n",
    "        floor_path = os.path.join(apt_path, floor)\n",
    "        if not os.path.isdir(floor_path):\n",
    "            continue\n",
    "\n",
    "        res = {}\n",
    "        mapping_file = os.path.join(floor_path, \"mapping.json\")\n",
    "        if os.path.exists(mapping_file):\n",
    "            with open(mapping_file, \"r\", encoding=\"utf-8\") as f:\n",
    "                res[\"mapping\"] = json.load(f)\n",
    "\n",
    "        metadata_file = os.path.join(floor_path, \"metadata.json\")\n",
    "        if os.path.exists(metadata_file):\n",
    "            with open(metadata_file, \"r\", encoding=\"utf-8\") as f:\n",
    "                res[\"metadata\"] = json.load(f)\n",
    "\n",
    "        map_file = os.path.join(floor_path, \"design.jpg\")\n",
    "        if os.path.exists(map_file):\n",
    "            res[\"image\"] = cv2.cvtColor(cv2.imread(map_file), cv2.COLOR_BGR2RGB) \n",
    "\n",
    "        resources[apartment][floor] = res"
   ]
  },
  {
   "cell_type": "code",
   "execution_count": 5,
   "id": "c5580c8c",
   "metadata": {},
   "outputs": [],
   "source": [
    "def crop_from_original(resources, code):\n",
    "    tiles_list = resources[\"mapping\"][code]\n",
    "    offsets = resources[\"metadata\"]\n",
    "    min_x, min_y = float(\"inf\"), float(\"inf\")\n",
    "    max_x, max_y = 0, 0\n",
    "\n",
    "    for tile_name in tiles_list:\n",
    "        off = offsets[tile_name]\n",
    "        x, y, w, h = off[\"x\"], off[\"y\"], off[\"width\"], off[\"height\"]\n",
    "\n",
    "        min_x = min(min_x, x)\n",
    "        min_y = min(min_y, y)\n",
    "        max_x = max(max_x, x + w)\n",
    "        max_y = max(max_y, y + h)\n",
    "\n",
    "    cropped = resources[\"image\"][min_y:max_y, min_x:max_x]\n",
    "    return cropped"
   ]
  },
  {
   "cell_type": "code",
   "execution_count": 6,
   "id": "17533fd8",
   "metadata": {},
   "outputs": [],
   "source": [
    "building_code = \"S6.06\"\n",
    "floor_number = 20\n",
    "apartment_number = int(input(\"apartment_number: \"))"
   ]
  },
  {
   "cell_type": "code",
   "execution_count": 7,
   "id": "b6ffee55",
   "metadata": {},
   "outputs": [],
   "source": [
    "def generate_content(query, image, MODEL, step=1):\n",
    "    base_config = dict(\n",
    "        temperature=0.2,\n",
    "        top_p=0.9,\n",
    "        top_k=40,\n",
    "    )\n",
    "\n",
    "    if step == 1:\n",
    "        config = types.GenerateContentConfig(**base_config, response_mime_type=\"application/json\",)\n",
    "    else:\n",
    "        config = types.GenerateContentConfig(**base_config)\n",
    "    try: \n",
    "        response = client.models.generate_content(\n",
    "            model=MODEL,\n",
    "            contents=[image, query],\n",
    "            config = config\n",
    "        )\n",
    "        time.sleep(3)\n",
    "        return response.text\n",
    "\n",
    "    except Exception as e:\n",
    "        print(e)\n",
    "        return None"
   ]
  },
  {
   "cell_type": "code",
   "execution_count": 8,
   "id": "c8a3b724",
   "metadata": {},
   "outputs": [],
   "source": [
    "map_cropped = crop_from_original(map_resources, building_code)\n",
    "success, encoded_image = cv2.imencode('.jpg', map_cropped)\n",
    "img_bytes = encoded_image.tobytes()\n",
    "map_part  = types.Part.from_bytes(data=img_bytes, mime_type=\"image/jpeg\")\n",
    "\n",
    "# plt.imshow(map_cropped)\n",
    "# plt.axis(\"off\")\n",
    "# plt.show()"
   ]
  },
  {
   "cell_type": "code",
   "execution_count": 9,
   "id": "71b757c4",
   "metadata": {},
   "outputs": [],
   "source": [
    "floor_ranges = resources[building_code.replace(\".\", \"\")].keys()\n",
    "for i, fr in enumerate(floor_ranges):\n",
    "    try:\n",
    "        _, start, end = fr.split(\"_\")\n",
    "        start, end = int(start), int(end)\n",
    "        if start <= floor_number <= end:\n",
    "            floor = fr\n",
    "            break\n",
    "    except ValueError:\n",
    "            continue\n",
    "    \n",
    "floor_resources = resources[building_code.replace(\".\", \"\")][floor]\n",
    "design_cropped = crop_from_original(floor_resources, f'CH{apartment_number:02d}')\n",
    "success, encoded_image = cv2.imencode('.jpg', design_cropped)\n",
    "img_bytes = encoded_image.tobytes()\n",
    "design_part  = types.Part.from_bytes(data=img_bytes, mime_type=\"image/jpeg\")\n",
    "\n",
    "# plt.imshow(design_cropped)\n",
    "# plt.axis(\"off\")\n",
    "# plt.show()"
   ]
  },
  {
   "cell_type": "markdown",
   "id": "5ddb74fd",
   "metadata": {},
   "source": [
    "### Step 1: Floorplan Analysis Prompt"
   ]
  },
  {
   "cell_type": "code",
   "execution_count": 10,
   "id": "144d7626",
   "metadata": {},
   "outputs": [
    {
     "name": "stdout",
     "output_type": "stream",
     "text": [
      "{\n",
      "  \"tiếp_giáp\": {\n",
      "    \"trên\": \"trống\",\n",
      "    \"dưới\": \"hành lang\",\n",
      "    \"trái\": \"CH06\",\n",
      "    \"phải\": \"CH08\"\n",
      "  },\n",
      "  \"bố_cục\": {\n",
      "    \"cửa_ra_vào\": \"Cửa ra vào ở cạnh dưới, mở vào từ hành lang.\",\n",
      "    \"luồng_chính\": \"Từ cửa vào, bên trái là khu vực bếp (P.BẾP) và phòng ăn (P.ĂN). Bên phải là phòng khách (P.KHÁCH). Đi thẳng vào trong là WC và phòng ngủ.\",\n",
      "    \"không_gian\": [\n",
      "      {\n",
      "        \"tên\": \"P.Bếp và P.Ăn\",\n",
      "        \"vị_trí\": \"Nằm ngay bên trái cửa ra vào.\"\n",
      "      },\n",
      "      {\n",
      "        \"tên\": \"P.Khách\",\n",
      "        \"vị_trí\": \"Nằm bên phải cửa ra vào, tiếp giáp với lô gia.\"\n",
      "      },\n",
      "      {\n",
      "        \"tên\": \"Lô gia\",\n",
      "        \"vị_trí\": \"Ở góc trên bên phải, có lối ra từ phòng khách.\"\n",
      "      },\n",
      "      {\n",
      "        \"tên\": \"WC\",\n",
      "        \"vị_trí\": \"Nằm ở giữa căn hộ, phía trên khu vực bếp.\"\n",
      "      },\n",
      "      {\n",
      "        \"tên\": \"P.Ngủ\",\n",
      "        \"vị_trí\": \"Nằm ở phía trên, bên phải WC.\"\n",
      "      }\n",
      "    ]\n",
      "  },\n",
      "  \"diện_tích\": {\n",
      "    \"loại_căn_hộ\": \"1PN+1\",\n",
      "    \"thông_thủy\": \"42.9m² (TT)\",\n",
      "    \"tim_tường\": \"46.3m² (Tim)\"\n",
      "  }\n",
      "}\n"
     ]
    }
   ],
   "source": [
    "user_query = f\"{prompt_1}\\nThông tin căn hộ cần phân tích: CH{apartment_number:02d}\"\n",
    "response_1 = generate_content(user_query, design_part, MODEL)\n",
    "print(response_1)"
   ]
  },
  {
   "cell_type": "markdown",
   "id": "16efae1c",
   "metadata": {},
   "source": [
    "### Step 2: Map Alignment Prompt"
   ]
  },
  {
   "cell_type": "code",
   "execution_count": 11,
   "id": "d5a11421",
   "metadata": {},
   "outputs": [
    {
     "data": {
      "text/markdown": [
       "Chào anh/chị, tôi đã phân tích chi tiết căn hộ CH07 tại tòa S6.06 và xin gửi đến anh/chị đánh giá như sau:\n",
       "\n",
       "Lô gia của căn hộ CH07 có hướng chính là hướng **Bắc**, với tầm nhìn hướng thẳng vào khu vực tiện ích và công viên nội khu xanh mát nằm giữa các tòa S6.05 và S10.01. Đây là một hướng rất lý tưởng tại Việt Nam, giúp căn hộ tránh được nắng gắt trực tiếp vào buổi sáng và chiều, giữ cho không gian sống luôn mát mẻ và dễ chịu.\n",
       "\n",
       "**Phân tích chi tiết về bố cục và trải nghiệm sống:**\n",
       "\n",
       "*   **Hướng và Bố cục:** Căn hộ có cửa ra vào ở phía Nam, mở từ hành lang chung. Không gian chính bao gồm phòng khách và lô gia được bố trí ở nửa phía Đông của căn hộ, trong khi khu vực bếp và phòng ăn nằm ở nửa phía Tây. Phòng ngủ cũng được đặt ở phía Bắc, có cửa sổ cùng hướng với lô gia, đảm bảo nhận được ánh sáng tự nhiên dịu nhẹ và không khí trong lành từ công viên.\n",
       "*   **Ưu điểm:**\n",
       "    1.  **Hướng mát mẻ:** Hướng Bắc giúp giảm đáng kể chi phí làm mát và tạo ra một môi trường sống thoải mái quanh năm.\n",
       "    2.  **Tầm nhìn nội khu:** Tầm nhìn hướng vào công viên mang lại sự yên tĩnh, trong lành, an toàn và không bị ảnh hưởng bởi tiếng ồn hay khói bụi từ các trục đường lớn.\n",
       "    3.  **Sự riêng tư:** Do không đối diện trực tiếp với tòa nhà nào quá gần, căn hộ vẫn giữ được sự riêng tư cần thiết.\n",
       "*   **Nhược điểm:** Vì hai bên tiếp giáp với các căn hộ khác (CH06 phía Tây và CH08 phía Đông), việc đón sáng và thông gió tự nhiên sẽ chủ yếu đến từ mặt thoáng phía Bắc.\n",
       "\n",
       "**Tư vấn:** Căn hộ S6.06-CH07 là một lựa chọn tuyệt vời cho những ai ưu tiên một không gian sống yên tĩnh, mát mẻ và gần gũi với thiên nhiên. Với tầm nhìn hướng vào lõi cảnh quan trung tâm, đây là sản phẩm lý tưởng cho các gia đình trẻ hoặc những người tìm kiếm một nơi an cư thanh bình."
      ],
      "text/plain": [
       "<IPython.core.display.Markdown object>"
      ]
     },
     "metadata": {},
     "output_type": "display_data"
    }
   ],
   "source": [
    "user_query = f\"\"\"{prompt_2}\n",
    "Thông tin căn hộ cần phân tích:\n",
    "- Tòa nhà (Building): {building_code}\n",
    "- Căn hộ (Apartment): CH{apartment_number:02d}\n",
    "- Tầng (Floor): {floor}\n",
    "\n",
    "[MAP_IMAGE]: Đây là ảnh bản đồ tổng quan vị trí block/căn hộ trong khu đô thị.\n",
    "[FLOORPLAN_LAYOUT]: Đây là JSON mô tả bố cục thiết kế mặt bằng chi tiết của căn hộ CH{apartment_number:02d} trong Block {building_code}: {json.loads(response_1)}\n",
    "[USER_QUERY]: Lô gia của căn hộ hướng ra khu vực nào?\n",
    "\"\"\"\n",
    "response_2 = generate_content(user_query, map_part, MODEL, step=2)\n",
    "display(Markdown(response_2))"
   ]
  }
 ],
 "metadata": {
  "kernelspec": {
   "display_name": "qwen",
   "language": "python",
   "name": "python3"
  },
  "language_info": {
   "codemirror_mode": {
    "name": "ipython",
    "version": 3
   },
   "file_extension": ".py",
   "mimetype": "text/x-python",
   "name": "python",
   "nbconvert_exporter": "python",
   "pygments_lexer": "ipython3",
   "version": "3.10.18"
  }
 },
 "nbformat": 4,
 "nbformat_minor": 5
}
