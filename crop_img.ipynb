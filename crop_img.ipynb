{
 "cells": [
  {
   "cell_type": "code",
   "execution_count": null,
   "id": "c6fe7aa9",
   "metadata": {},
   "outputs": [],
   "source": [
    "import matplotlib.pyplot as plt\n",
    "from PIL import Image\n",
    "import cv2\n",
    "\n",
    "import numpy as np\n",
    "import torch\n",
    "import json\n",
    "import easyocr\n",
    "\n",
    "import time\n",
    "import os\n",
    "import gc\n",
    "import math\n",
    "import re"
   ]
  },
  {
   "cell_type": "code",
   "execution_count": null,
   "id": "5acc1133",
   "metadata": {},
   "outputs": [],
   "source": [
    "path = \".\"\n",
    "root_dir = f\"{path}/data/design/\"\n",
    "resources = {}\n",
    "\n",
    "for apartment in os.listdir(root_dir):\n",
    "    apt_path = os.path.join(root_dir, apartment)\n",
    "    if not os.path.isdir(apt_path):\n",
    "        continue\n",
    "\n",
    "    resources[apartment] = {}\n",
    "    for floor in os.listdir(apt_path):\n",
    "        floor_path = os.path.join(apt_path, floor)\n",
    "        if not os.path.isdir(floor_path):\n",
    "            continue\n",
    "\n",
    "        res = {}\n",
    "        mapping_file = os.path.join(floor_path, \"mapping.json\")\n",
    "        if os.path.exists(mapping_file):\n",
    "            with open(mapping_file, \"r\", encoding=\"utf-8\") as f:\n",
    "                res[\"mapping\"] = json.load(f)\n",
    "\n",
    "        metadata_file = os.path.join(floor_path, \"metadata.json\")\n",
    "        if os.path.exists(metadata_file):\n",
    "            with open(metadata_file, \"r\", encoding=\"utf-8\") as f:\n",
    "                res[\"metadata\"] = json.load(f)\n",
    "\n",
    "        map_file = os.path.join(floor_path, \"design.jpg\")\n",
    "        if os.path.exists(map_file):\n",
    "            res[\"image\"] = cv2.cvtColor(cv2.imread(map_file), cv2.COLOR_BGR2RGB) \n",
    "\n",
    "        resources[apartment][floor] = res"
   ]
  },
  {
   "cell_type": "code",
   "execution_count": null,
   "id": "c9d25120",
   "metadata": {},
   "outputs": [],
   "source": [
    "def crop_from_original(resources, code, padding=0):\n",
    "    tiles_list = resources[\"mapping\"][code]\n",
    "    offsets = resources[\"metadata\"]\n",
    "    min_x, min_y = float(\"inf\"), float(\"inf\")\n",
    "    max_x, max_y = 0, 0\n",
    "\n",
    "    for tile_name in tiles_list:\n",
    "        off = offsets[tile_name]\n",
    "        x, y, w, h = off[\"x\"], off[\"y\"], off[\"width\"], off[\"height\"]\n",
    "\n",
    "        min_x = min(min_x, x) + padding\n",
    "        min_y = min(min_y, y) + padding\n",
    "        max_x = max(max_x, x + w) + padding\n",
    "        max_y = max(max_y, y + h) + padding\n",
    "\n",
    "    cropped = resources[\"image\"][min_y:max_y, min_x:max_x]\n",
    "    return cropped"
   ]
  },
  {
   "cell_type": "code",
   "execution_count": null,
   "id": "cd88aa9a",
   "metadata": {},
   "outputs": [],
   "source": [
    "building_code=\"S6.06\"\n",
    "floor_number=20\n",
    "floor_ranges = resources[building_code.replace(\".\", \"\")].keys()\n",
    "for i, fr in enumerate(floor_ranges):\n",
    "    try:\n",
    "        _, start, end = fr.split(\"_\")\n",
    "        start, end = int(start), int(end)\n",
    "        if start <= floor_number <= end:\n",
    "            floor = fr\n",
    "            break\n",
    "    except ValueError:\n",
    "            continue\n",
    "        \n",
    "floor_resources = resources[building_code.replace(\".\", \"\")][floor]"
   ]
  },
  {
   "cell_type": "code",
   "execution_count": null,
   "id": "5e9d9999",
   "metadata": {},
   "outputs": [],
   "source": [
    "index = 30\n",
    "design_cropped = crop_from_original(floor_resources, f'CH{index:02d}')\n",
    "\n",
    "h, w = design_cropped.shape[:2]\n",
    "print(design_cropped.shape)\n",
    "min_y = 1500\n",
    "max_y = h - 340\n",
    "min_x = 1440\n",
    "max_x = w - 525\n",
    "\n",
    "img_resized = design_cropped[min_y:max_y, min_x:max_x]\n",
    "print(img_resized.shape)\n",
    "plt.figure(figsize=(6, 6))\n",
    "plt.imshow(img_resized)\n",
    "plt.axis(\"off\")\n",
    "plt.show()"
   ]
  },
  {
   "cell_type": "code",
   "execution_count": null,
   "id": "85173648",
   "metadata": {},
   "outputs": [],
   "source": [
    "index = 30\n",
    "cv2.imwrite(\n",
    "    f\"data/image/CH{index:02d}.jpg\", \n",
    "    cv2.cvtColor(img_resized, cv2.COLOR_RGB2BGR), \n",
    "    [cv2.IMWRITE_JPEG_QUALITY, 100]\n",
    ")"
   ]
  }
 ],
 "metadata": {
  "kernelspec": {
   "display_name": "qwen",
   "language": "python",
   "name": "python3"
  },
  "language_info": {
   "codemirror_mode": {
    "name": "ipython",
    "version": 3
   },
   "file_extension": ".py",
   "mimetype": "text/x-python",
   "name": "python",
   "nbconvert_exporter": "python",
   "pygments_lexer": "ipython3",
   "version": "3.10.18"
  }
 },
 "nbformat": 4,
 "nbformat_minor": 5
}
